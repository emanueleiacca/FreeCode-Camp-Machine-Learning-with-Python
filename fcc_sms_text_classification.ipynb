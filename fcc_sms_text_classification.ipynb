{
  "cells": [
    {
      "cell_type": "markdown",
      "metadata": {
        "id": "view-in-github",
        "colab_type": "text"
      },
      "source": [
        "<a href=\"https://colab.research.google.com/github/emanueleiacca/Machine-Learning-with-Python/blob/main/fcc_sms_text_classification.ipynb\" target=\"_parent\"><img src=\"https://colab.research.google.com/assets/colab-badge.svg\" alt=\"Open In Colab\"/></a>"
      ]
    },
    {
      "cell_type": "code",
      "execution_count": null,
      "metadata": {
        "id": "8RZOuS9LWQvv"
      },
      "outputs": [],
      "source": [
        "# import libraries\n",
        "try:\n",
        "  # %tensorflow_version only exists in Colab.\n",
        "  !pip install tf-nightly\n",
        "except Exception:\n",
        "  pass\n",
        "import tensorflow as tf\n",
        "import pandas as pd\n",
        "from tensorflow import keras\n",
        "!pip install tensorflow-datasets\n",
        "import tensorflow_datasets as tfds\n",
        "import numpy as np\n",
        "import matplotlib.pyplot as plt\n",
        "\n",
        "print(tf.__version__)"
      ]
    },
    {
      "cell_type": "code",
      "execution_count": null,
      "metadata": {
        "id": "lMHwYXHXCar3"
      },
      "outputs": [],
      "source": [
        "# get data files\n",
        "!wget https://cdn.freecodecamp.org/project-data/sms/train-data.tsv\n",
        "!wget https://cdn.freecodecamp.org/project-data/sms/valid-data.tsv\n",
        "\n",
        "train_file_path = \"train-data.tsv\"\n",
        "test_file_path = \"valid-data.tsv\"\n"
      ]
    },
    {
      "cell_type": "markdown",
      "source": [
        "# Load and Explore the Data"
      ],
      "metadata": {
        "id": "xNKS3lWG_F6Y"
      }
    },
    {
      "cell_type": "code",
      "execution_count": null,
      "metadata": {
        "id": "g_h508FEClxO"
      },
      "outputs": [],
      "source": [
        "import pandas as pd\n",
        "\n",
        "# Load the data from the tsv files\n",
        "train_data = pd.read_csv('train-data.tsv', sep='\\t', header=None, names=['label', 'message'])\n",
        "test_data = pd.read_csv('valid-data.tsv', sep='\\t', header=None, names=['label', 'message'])\n",
        "\n",
        "# Display the first few rows of the dataset\n",
        "print(train_data.head())\n",
        "print(test_data.head())"
      ]
    },
    {
      "cell_type": "code",
      "source": [
        "ham_count = train_data[train_data['label'] == 'ham'].shape[0]\n",
        "spam_count = train_data[train_data['label'] == 'spam'].shape[0]\n",
        "\n",
        "# Display the counts\n",
        "print(f\"Ham count: {ham_count}\")\n",
        "print(f\"Spam count: {spam_count}\")\n",
        "print(f\"Ratio (Ham/Spam): {ham_count / spam_count:.2f}\")\n"
      ],
      "metadata": {
        "id": "gdwQb6uSDINq"
      },
      "execution_count": null,
      "outputs": []
    },
    {
      "cell_type": "markdown",
      "source": [
        "#  Preprocess the Data\n",
        "Convert text messages into numerical data that can be fed into a neural network."
      ],
      "metadata": {
        "id": "Iot8ZERZ_Mmv"
      }
    },
    {
      "cell_type": "code",
      "execution_count": null,
      "metadata": {
        "id": "zOMKywn4zReN"
      },
      "outputs": [],
      "source": [
        "import tensorflow as tf\n",
        "from tensorflow.keras.preprocessing.text import Tokenizer\n",
        "from tensorflow.keras.preprocessing.sequence import pad_sequences\n",
        "\n",
        "# Tokenize the text data\n",
        "# convert text data into sequences of integers, where each unique word is assigned a unique integer\n",
        "tokenizer = Tokenizer(num_words=10000, oov_token='<OOV>') # We're considering the top 10,000 words in the dataset. Words outside this range will be replaced by <OOV> (Out Of Vocabulary).\n",
        "tokenizer.fit_on_texts(train_data['message']) # builds the word index based on the training messages.\n",
        "\n",
        "# Converts the text data into sequences of integers\n",
        "train_sequences = tokenizer.texts_to_sequences(train_data['message'])\n",
        "test_sequences = tokenizer.texts_to_sequences(test_data['message'])\n",
        "\n",
        "# Ensures all sequences are of the same length by padding shorter sequences with zeros, since NN require uniform input sizes\n",
        "max_length = 100\n",
        "train_padded = pad_sequences(train_sequences, maxlen=max_length, padding='post')\n",
        "test_padded = pad_sequences(test_sequences, maxlen=max_length, padding='post')\n",
        "\n",
        "# Convert labels to binary format (0 for 'ham', 1 for 'spam')\n",
        "train_labels = [1 if label == 'spam' else 0 for label in train_data['label']]\n",
        "test_labels = [1 if label == 'spam' else 0 for label in test_data['label']]\n",
        "\n",
        "#Converts the list of labels into a TensorFlow tensor for model training\n",
        "train_labels = tf.convert_to_tensor(train_labels)\n",
        "test_labels = tf.convert_to_tensor(test_labels)\n"
      ]
    },
    {
      "cell_type": "markdown",
      "source": [
        "# Build and Train the Model"
      ],
      "metadata": {
        "id": "WwMRWXXdJRkZ"
      }
    },
    {
      "cell_type": "code",
      "source": [
        "from tensorflow.keras.models import Sequential\n",
        "from tensorflow.keras.layers import Dense, Flatten, Embedding\n",
        "\n",
        "# Define a simple model\n",
        "model = Sequential([\n",
        "    Embedding(10000, 16, input_length=max_length),\n",
        "    Flatten(), # Converts the 2D matrix of word embeddings into a 1D vector, making it suitable for the Dense layers that follow\n",
        "    Dense(16, activation='relu'), # A fully connected layer with 16 neurons. The ReLU activation function introduces non-linearity, allowing the model to learn complex patterns.\n",
        "    Dense(1, activation='sigmoid') # The output layer with 1 neuron. The sigmoid activation function outputs a probability between 0 and 1, making it suitable for binary classification (ham vs. spam).\n",
        "])\n",
        "\n",
        "# Compile the model\n",
        "model.compile(optimizer='adam', # adaptive learning rate optimization algorithm\n",
        "              loss='binary_crossentropy', # loss function for binary classification tasks. It measures the difference between the predicted probability and the actual label.\n",
        "              metrics=['accuracy'])\n",
        "\n",
        "#Since spam messages are less frequent than ham messages, adjusting class weights helps the model pay more attention to the minority class. Increasing the weight for the spam class penalizes misclassifications more heavily\n",
        "class_weights = {0: 1.0, 1: 2.0}\n",
        "\n",
        "# Train the model\n",
        "history = model.fit(\n",
        "    train_padded,\n",
        "    train_labels,\n",
        "    epochs=10,\n",
        "    validation_data=(test_padded, test_labels),\n",
        "    batch_size=32,\n",
        "    class_weight=class_weights,\n",
        "    verbose=2\n",
        ")\n"
      ],
      "metadata": {
        "id": "AhoLD3wEJItN"
      },
      "execution_count": null,
      "outputs": []
    },
    {
      "cell_type": "code",
      "source": [
        "import matplotlib.pyplot as plt\n",
        "\n",
        "# Plot training & validation accuracy values\n",
        "plt.figure(figsize=(12, 4))\n",
        "plt.subplot(1, 2, 1)\n",
        "plt.plot(history.history['accuracy'], label='Train')\n",
        "plt.plot(history.history['val_accuracy'], label='Validation')\n",
        "plt.title('Model Accuracy')\n",
        "plt.ylabel('Accuracy')\n",
        "plt.xlabel('Epoch')\n",
        "plt.legend()\n",
        "\n",
        "# Plot training & validation loss values\n",
        "plt.subplot(1, 2, 2)\n",
        "plt.plot(history.history['loss'], label='Train')\n",
        "plt.plot(history.history['val_loss'], label='Validation')\n",
        "plt.title('Model Loss')\n",
        "plt.ylabel('Loss')\n",
        "plt.xlabel('Epoch')\n",
        "plt.legend()\n",
        "\n",
        "plt.show()\n",
        "\n",
        "# We need to monitor the validation metrics to ensure that increasing the class weight doesn't lead to overfitting or decreased performance on ham messages\n"
      ],
      "metadata": {
        "id": "O5tpm1slL8nf"
      },
      "execution_count": null,
      "outputs": []
    },
    {
      "cell_type": "code",
      "execution_count": null,
      "metadata": {
        "id": "J9tD9yACG6M9"
      },
      "outputs": [],
      "source": [
        "# function to predict messages based on model\n",
        "# (should return list containing prediction and label, ex. [0.008318834938108921, 'ham'])\n",
        "def predict_message(pred_text):\n",
        "    '''\n",
        "    The function preprocesses a single input message, predicts its class using the trained model, and returns a list with the prediction probability and the predicted label.\n",
        "    '''\n",
        "    # Preprocess the input text\n",
        "    sequence = tokenizer.texts_to_sequences([pred_text])\n",
        "    padded = pad_sequences(sequence, maxlen=max_length, padding='post')\n",
        "\n",
        "    # Predict using the trained model\n",
        "    prediction = model.predict(padded)[0][0]\n",
        "\n",
        "    # Determine label based on prediction\n",
        "    label = 'spam' if prediction > 0.5 else 'ham'\n",
        "\n",
        "    return [float(prediction), label]\n",
        "\n",
        "pred_text = \"how are you doing today?\"\n",
        "\n",
        "prediction = predict_message(pred_text)\n",
        "print(prediction)"
      ]
    },
    {
      "cell_type": "code",
      "source": [
        "# Check the model predictions on the training data to understand what the model is doing\n",
        "predictions = model.predict(train_padded)\n",
        "\n",
        "for i in range(5):\n",
        "    print(f\"Message: {train_data['message'][i]}\")\n",
        "    print(f\"Prediction: {predictions[i][0]} | Actual: {train_labels[i]}\\n\")\n"
      ],
      "metadata": {
        "id": "1gD-eO-WLNAb"
      },
      "execution_count": null,
      "outputs": []
    },
    {
      "cell_type": "code",
      "execution_count": null,
      "metadata": {
        "id": "Dxotov85SjsC"
      },
      "outputs": [],
      "source": [
        "# Run this cell to test your function and model. Do not modify contents.\n",
        "def test_predictions():\n",
        "  test_messages = [\"how are you doing today\",\n",
        "                   \"sale today! to stop texts call 98912460324\",\n",
        "                   \"i dont want to go. can we try it a different day? available sat\",\n",
        "                   \"our new mobile video service is live. just install on your phone to start watching.\",\n",
        "                   \"you have won £1000 cash! call to claim your prize.\",\n",
        "                   \"i'll bring it tomorrow. don't forget the milk.\",\n",
        "                   \"wow, is your arm alright. that happened to me one time too\"\n",
        "                  ]\n",
        "\n",
        "  test_answers = [\"ham\", \"spam\", \"ham\", \"spam\", \"spam\", \"ham\", \"ham\"]\n",
        "  passed = True\n",
        "\n",
        "  for msg, ans in zip(test_messages, test_answers):\n",
        "    prediction = predict_message(msg)\n",
        "    print(f\"Message: '{msg}'\\nPredicted: {prediction[1]} ({prediction[0]:.4f}) | Actual: {ans}\\n\")\n",
        "    if prediction[1] != ans:\n",
        "      passed = False\n",
        "\n",
        "  if passed:\n",
        "    print(\"You passed the challenge. Great job!\")\n",
        "  else:\n",
        "    print(\"You haven't passed yet. Keep trying.\")\n",
        "\n",
        "test_predictions()\n"
      ]
    }
  ],
  "metadata": {
    "colab": {
      "name": "fcc_sms_text_classification.ipynb",
      "private_outputs": true,
      "provenance": [],
      "include_colab_link": true
    },
    "kernelspec": {
      "display_name": "Python 3",
      "name": "python3"
    },
    "language_info": {}
  },
  "nbformat": 4,
  "nbformat_minor": 0
}